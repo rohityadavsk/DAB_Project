{
 "cells": [
  {
   "cell_type": "code",
   "execution_count": 1,
   "id": "fb8822df",
   "metadata": {},
   "outputs": [],
   "source": [
    "from pyspark.sql.functions import max, min, avg, count, round "
   ]
  },
  {
   "cell_type": "code",
   "execution_count": null,
   "id": "8931e3d4",
   "metadata": {},
   "outputs": [],
   "source": [
    "catalog = dbutils.widgets.get(\"catalog\")"
   ]
  },
  {
   "cell_type": "code",
   "execution_count": 2,
   "id": "0b43bc10",
   "metadata": {},
   "outputs": [],
   "source": [
    "df = spark.read.table('citibike_dev.02_silver.jc_citibike')"
   ]
  },
  {
   "cell_type": "code",
   "execution_count": 3,
   "id": "025d3bbb",
   "metadata": {},
   "outputs": [],
   "source": [
    "df = df.groupBy('trip_start_date').agg(\n",
    "    round(max('trip_duration_mins'), 2).alias('max_trip_duration_mins'),\n",
    "    round(min('trip_duration_mins'), 2).alias('min_trip_duration_mins'),\n",
    "    round(avg('trip_duration_mins'), 2).alias('avg_trip_duration_mins'),\n",
    "    count('ride_id').alias('total_trips')\n",
    ")"
   ]
  },
  {
   "cell_type": "code",
   "execution_count": null,
   "id": "7209c8cd",
   "metadata": {},
   "outputs": [],
   "source": [
    "(df.write.\n",
    "    mode('overwrite').\n",
    "    option('overwriteSchema', 'true').\n",
    "    saveAsTable(f'{catalog}.03_gold.daily_ride_summary'))"
   ]
  }
 ],
 "metadata": {
  "kernelspec": {
   "display_name": ".venv_dbc",
   "language": "python",
   "name": "python3"
  },
  "language_info": {
   "codemirror_mode": {
    "name": "ipython",
    "version": 3
   },
   "file_extension": ".py",
   "mimetype": "text/x-python",
   "name": "python",
   "nbconvert_exporter": "python",
   "pygments_lexer": "ipython3",
   "version": "3.12.6"
  }
 },
 "nbformat": 4,
 "nbformat_minor": 5
}
