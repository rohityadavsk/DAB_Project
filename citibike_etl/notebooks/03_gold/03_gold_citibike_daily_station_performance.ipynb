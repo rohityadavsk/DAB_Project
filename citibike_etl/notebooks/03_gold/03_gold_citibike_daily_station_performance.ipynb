{
 "cells": [
  {
   "cell_type": "code",
   "execution_count": 1,
   "id": "9d2209d6",
   "metadata": {},
   "outputs": [],
   "source": [
    "from pyspark.sql.functions import avg, count, round"
   ]
  },
  {
   "cell_type": "code",
   "execution_count": null,
   "id": "ce4862a5",
   "metadata": {},
   "outputs": [],
   "source": [
    "catalog = dbutils.widgets.get(\"catalog\")"
   ]
  },
  {
   "cell_type": "code",
   "execution_count": 2,
   "id": "089229b5",
   "metadata": {},
   "outputs": [],
   "source": [
    "df = spark.read.table('citibike_dev.02_silver.jc_citibike')"
   ]
  },
  {
   "cell_type": "code",
   "execution_count": 3,
   "id": "f743f308",
   "metadata": {},
   "outputs": [],
   "source": [
    "df = (df.groupBy('trip_start_date', 'start_station_name')\n",
    "      .agg(\n",
    "            round(avg('trip_duration_mins'), 2).alias('avg_trip_duration_mins'),\n",
    "            count('ride_id').alias('total_trips')\n",
    "      ))"
   ]
  },
  {
   "cell_type": "code",
   "execution_count": null,
   "id": "98434890",
   "metadata": {},
   "outputs": [],
   "source": [
    "df.write.mode('overwrite')\\\n",
    "    .option('overwriteSchema', 'true')\\\n",
    "    .saveAsTable(f'{catalog}.03_gold.daily_station_performance')"
   ]
  }
 ],
 "metadata": {
  "kernelspec": {
   "display_name": ".venv_dbc",
   "language": "python",
   "name": "python3"
  },
  "language_info": {
   "codemirror_mode": {
    "name": "ipython",
    "version": 3
   },
   "file_extension": ".py",
   "mimetype": "text/x-python",
   "name": "python",
   "nbconvert_exporter": "python",
   "pygments_lexer": "ipython3",
   "version": "3.12.6"
  }
 },
 "nbformat": 4,
 "nbformat_minor": 5
}
