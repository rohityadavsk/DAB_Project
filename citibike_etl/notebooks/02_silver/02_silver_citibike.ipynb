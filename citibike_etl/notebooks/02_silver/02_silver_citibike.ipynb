{
 "cells": [
  {
   "cell_type": "code",
   "execution_count": null,
   "id": "55f4964c",
   "metadata": {},
   "outputs": [],
   "source": [
    "from citibike.citibike_utils import get_trip_duration_mins\n",
    "from utils.datetime_utils import timestamp_to_date_col\n",
    "from pyspark.sql.functions import create_map, lit"
   ]
  },
  {
   "cell_type": "code",
   "execution_count": null,
   "id": "8f655441",
   "metadata": {},
   "outputs": [],
   "source": [
    "pipeline_id = dbutils.widgets.get(\"pipeline_id\")\n",
    "run_id = dbutils.widgets.get(\"run_id\")\n",
    "task_id = dbutils.widgets.get(\"task_id\")\n",
    "processed_timestamp = dbutils.widgets.get(\"processed_timestamp\")\n",
    "catalog = dbutils.widgets.get(\"catalog\")"
   ]
  },
  {
   "cell_type": "code",
   "execution_count": 2,
   "id": "22139b9d",
   "metadata": {},
   "outputs": [],
   "source": [
    "df = spark.read.table('citibike_dev.01_bronze.jc_citibike')"
   ]
  },
  {
   "cell_type": "code",
   "execution_count": 3,
   "id": "2b0943fc",
   "metadata": {},
   "outputs": [],
   "source": [
    "df = get_trip_duration_mins(spark, df, 'started_at', 'ended_at', 'trip_duration_mins')"
   ]
  },
  {
   "cell_type": "code",
   "execution_count": 4,
   "id": "d47a1bfa",
   "metadata": {},
   "outputs": [],
   "source": [
    "df = timestamp_to_date_col(spark, df, 'started_at', 'trip_start_date')"
   ]
  },
  {
   "cell_type": "code",
   "execution_count": null,
   "id": "af6d0ddb",
   "metadata": {},
   "outputs": [],
   "source": [
    "df = df.withColumn('metadata',\n",
    "                   create_map(\n",
    "                       lit('pipeline_id'), lit(pipeline_id),\n",
    "                       lit('run_id'), lit(run_id),\n",
    "                       lit('task_id'), lit(task_id),\n",
    "                       lit('processed_timestamp'), lit(processed_timestamp),\n",
    "                   ))"
   ]
  },
  {
   "cell_type": "code",
   "execution_count": 6,
   "id": "19eed248",
   "metadata": {},
   "outputs": [],
   "source": [
    "df = df.select(\n",
    "    'ride_id',\n",
    "    'trip_start_date',\n",
    "    'started_at',\n",
    "    'ended_at',\n",
    "    'start_station_name',\n",
    "    'end_station_name',\n",
    "    'trip_duration_mins',\n",
    "    'metadata'\n",
    ")"
   ]
  },
  {
   "cell_type": "code",
   "execution_count": null,
   "id": "93ed360d",
   "metadata": {},
   "outputs": [],
   "source": [
    "(df.write.\n",
    " mode('overwrite').\n",
    " option('overwriteSchema', 'true').\n",
    " saveAsTable(f'{catalog}.02_silver.jc_citibike'))"
   ]
  }
 ],
 "metadata": {
  "kernelspec": {
   "display_name": ".venv_dbc",
   "language": "python",
   "name": "python3"
  },
  "language_info": {
   "codemirror_mode": {
    "name": "ipython",
    "version": 3
   },
   "file_extension": ".py",
   "mimetype": "text/x-python",
   "name": "python",
   "nbconvert_exporter": "python",
   "pygments_lexer": "ipython3",
   "version": "3.12.6"
  }
 },
 "nbformat": 4,
 "nbformat_minor": 5
}
